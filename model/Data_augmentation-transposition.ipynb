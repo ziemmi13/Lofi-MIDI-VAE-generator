{
 "cells": [
  {
   "cell_type": "code",
   "execution_count": 3,
   "id": "616db108",
   "metadata": {},
   "outputs": [
    {
     "name": "stdout",
     "output_type": "stream",
     "text": [
      "Augmented files will be saved to: C:\\Users\\Hyperbook\\Desktop\\STUDIA\\SEM III\\PZ#2\\dataset\\lofi-dataset-augmented\n",
      "Found 9164 files to augment.\n"
     ]
    },
    {
     "name": "stderr",
     "output_type": "stream",
     "text": [
      "Transposing MIDI files: 100%|██████████| 9164/9164 [01:13<00:00, 124.85it/s]"
     ]
    },
    {
     "name": "stdout",
     "output_type": "stream",
     "text": [
      "\n",
      "Dataset augmentation complete.\n",
      "Original file count: 9164\n",
      "New transposed files created: 9164\n"
     ]
    },
    {
     "name": "stderr",
     "output_type": "stream",
     "text": [
      "\n"
     ]
    }
   ],
   "source": [
    "# augment_transpose.py\n",
    "\n",
    "import mido\n",
    "import os\n",
    "import glob\n",
    "from tqdm import tqdm\n",
    "\n",
    "# --- Configuration ---\n",
    "SOURCE_DIRECTORY = r\"C:\\Users\\Hyperbook\\Desktop\\STUDIA\\SEM III\\PZ#2\\dataset\\lofi-dataset\"\n",
    "# We'll create a new directory for the augmented files to keep things clean.\n",
    "OUTPUT_DIRECTORY = os.path.join(os.path.dirname(SOURCE_DIRECTORY), \"lofi-dataset-augmented\")\n",
    "TRANSPOSE_SEMITONES = -2 # Transpose up by 1 semitone. Change to 2 for a whole tone.\n",
    "FILENAME_SUFFIX = \"_-2_semitone_up\"\n",
    "\n",
    "def transpose_dataset(source_dir, output_dir, semitones, suffix):\n",
    "    \"\"\"\n",
    "    Augments a MIDI dataset by transposing each file up by a given number of semitones.\n",
    "    \"\"\"\n",
    "    if not os.path.exists(source_dir):\n",
    "        print(f\"Error: Source directory not found at '{source_dir}'\")\n",
    "        return\n",
    "\n",
    "    # Create the output directory if it doesn't exist\n",
    "    os.makedirs(output_dir, exist_ok=True)\n",
    "    print(f\"Augmented files will be saved to: {output_dir}\")\n",
    "\n",
    "    midi_files = glob.glob(os.path.join(source_dir, '*.mid')) + \\\n",
    "                 glob.glob(os.path.join(source_dir, '*.midi'))\n",
    "\n",
    "    if not midi_files:\n",
    "        print(f\"No MIDI files found in '{source_dir}'\")\n",
    "        return\n",
    "\n",
    "    print(f\"Found {len(midi_files)} files to augment.\")\n",
    "\n",
    "    for file_path in tqdm(midi_files, desc=\"Transposing MIDI files\"):\n",
    "        try:\n",
    "            mid = mido.MidiFile(file_path, clip=True)\n",
    "            \n",
    "            # Create a new MIDI file to store the transposed version\n",
    "            new_mid = mido.MidiFile(ticks_per_beat=mid.ticks_per_beat, type=mid.type)\n",
    "\n",
    "            for track in mid.tracks:\n",
    "                new_track = mido.MidiTrack()\n",
    "                for msg in track:\n",
    "                    new_msg = msg.copy()\n",
    "                    \n",
    "                    # Check if the message is a note event\n",
    "                    if msg.type == 'note_on' or msg.type == 'note_off':\n",
    "                        # Transpose the note, ensuring it stays within the valid MIDI range [0, 127]\n",
    "                        new_note_value = msg.note + semitones\n",
    "                        if 0 <= new_note_value <= 127:\n",
    "                            new_msg.note = new_note_value\n",
    "                        else:\n",
    "                            # If transposition goes out of range, we keep the original note\n",
    "                            # to avoid errors. Another option could be to skip the note.\n",
    "                            pass\n",
    "                    \n",
    "                    new_track.append(new_msg)\n",
    "                \n",
    "                new_mid.tracks.append(new_track)\n",
    "\n",
    "            # --- Create new filename and save the transposed file ---\n",
    "            base_filename, extension = os.path.splitext(os.path.basename(file_path))\n",
    "            new_filename = f\"{base_filename}{suffix}{extension}\"\n",
    "            output_path = os.path.join(output_dir, new_filename)\n",
    "            \n",
    "            new_mid.save(output_path)\n",
    "\n",
    "        except Exception as e:\n",
    "            print(f\"\\nCould not process file {os.path.basename(file_path)}: {e}\")\n",
    "\n",
    "    print(\"\\nDataset augmentation complete.\")\n",
    "    print(f\"Original file count: {len(midi_files)}\")\n",
    "    print(f\"New transposed files created: {len(midi_files)}\")\n",
    "\n",
    "\n",
    "if __name__ == '__main__':\n",
    "    transpose_dataset(\n",
    "        source_dir=SOURCE_DIRECTORY,\n",
    "        output_dir=OUTPUT_DIRECTORY,\n",
    "        semitones=TRANSPOSE_SEMITONES,\n",
    "        suffix=FILENAME_SUFFIX\n",
    "    )"
   ]
  }
 ],
 "metadata": {
  "kernelspec": {
   "display_name": "venv",
   "language": "python",
   "name": "python3"
  },
  "language_info": {
   "codemirror_mode": {
    "name": "ipython",
    "version": 3
   },
   "file_extension": ".py",
   "mimetype": "text/x-python",
   "name": "python",
   "nbconvert_exporter": "python",
   "pygments_lexer": "ipython3",
   "version": "3.13.3"
  }
 },
 "nbformat": 4,
 "nbformat_minor": 5
}
