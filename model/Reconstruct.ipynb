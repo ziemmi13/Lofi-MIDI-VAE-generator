{
 "cells": [
  {
   "cell_type": "code",
   "execution_count": 1,
   "id": "7a329471",
   "metadata": {},
   "outputs": [
    {
     "name": "stdout",
     "output_type": "stream",
     "text": [
      "2.7.1+cu118\n",
      "11.8\n"
     ]
    }
   ],
   "source": [
    "%load_ext autoreload\n",
    "%autoreload 2\n",
    "\n",
    "import torch\n",
    "from model import LofiModel\n",
    "from dataset import MidiDataset\n",
    "from config import *\n",
    "print(torch.__version__)\n",
    "print(torch.version.cuda)"
   ]
  },
  {
   "cell_type": "code",
   "execution_count": 3,
   "id": "9e1a2f43",
   "metadata": {},
   "outputs": [
    {
     "name": "stdout",
     "output_type": "stream",
     "text": [
      "Found 4084 MIDI files.\n",
      "Processing MIDI files, normalizing tempo, and extracting segments...\n"
     ]
    },
    {
     "name": "stderr",
     "output_type": "stream",
     "text": [
      "Processing files: 100%|██████████| 4084/4084 [03:24<00:00, 19.97it/s]"
     ]
    },
    {
     "name": "stdout",
     "output_type": "stream",
     "text": [
      "Successfully extracted 69568 segments from 4084 files.\n"
     ]
    },
    {
     "name": "stderr",
     "output_type": "stream",
     "text": [
      "\n"
     ]
    }
   ],
   "source": [
    "dataset = MidiDataset(\n",
    "        midi_dir=DATASET_DIR,\n",
    "        metadata_csv_path=METADATA_CSV_PATH,\n",
    "        num_bars=NUM_BARS,\n",
    "        steps_per_bar=STEPS_PER_BAR,\n",
    "        use_sliding_window=USE_SLIDING_WINDOW,\n",
    "        stride_in_bars=STRIDE_IN_BARS\n",
    "    )"
   ]
  },
  {
   "cell_type": "markdown",
   "id": "54cad895",
   "metadata": {},
   "source": [
    "## Reconstruction"
   ]
  },
  {
   "cell_type": "code",
   "execution_count": null,
   "id": "dfda65cf",
   "metadata": {},
   "outputs": [
    {
     "name": "stdout",
     "output_type": "stream",
     "text": [
      "Epoch 200\n",
      "Successfully loaded weights from C:\\Users\\Hyperbook\\Desktop\\STUDIA\\SEM III\\PZ#2\\model\\checkpoints\\Modele LOFI\\lofi_model_epoch_200.pth\n"
     ]
    },
    {
     "ename": "AttributeError",
     "evalue": "'tuple' object has no attribute 'unsqueeze'",
     "output_type": "error",
     "traceback": [
      "\u001b[31m---------------------------------------------------------------------------\u001b[39m",
      "\u001b[31mAttributeError\u001b[39m                            Traceback (most recent call last)",
      "\u001b[36mCell\u001b[39m\u001b[36m \u001b[39m\u001b[32mIn[5]\u001b[39m\u001b[32m, line 9\u001b[39m\n\u001b[32m      7\u001b[39m original_sequence_tensor= dataset[epoch]\n\u001b[32m      8\u001b[39m \u001b[38;5;66;03m# print(f\"Processing file: {file_name}\")\u001b[39;00m\n\u001b[32m----> \u001b[39m\u001b[32m9\u001b[39m reconstructions, _ = \u001b[43mmodel\u001b[49m\u001b[43m.\u001b[49m\u001b[43mreconstruct\u001b[49m\u001b[43m(\u001b[49m\u001b[43moriginal_sequence_tensor\u001b[49m\u001b[43m,\u001b[49m\u001b[43m \u001b[49m\u001b[43moutput_path\u001b[49m\u001b[43m=\u001b[49m\u001b[33;43mf\u001b[39;49m\u001b[33;43m\"\u001b[39;49m\u001b[33;43mreconstructed/lofi_model/reconstructed_new_\u001b[39;49m\u001b[38;5;132;43;01m{\u001b[39;49;00m\u001b[43mepoch\u001b[49m\u001b[38;5;132;43;01m}\u001b[39;49;00m\u001b[33;43m.mid\u001b[39;49m\u001b[33;43m\"\u001b[39;49m\u001b[43m)\u001b[49m\n\u001b[32m     11\u001b[39m fig, axes = plt.subplots(\u001b[32m2\u001b[39m, \u001b[32m1\u001b[39m, figsize=(\u001b[32m16\u001b[39m, \u001b[32m12\u001b[39m))\n\u001b[32m     12\u001b[39m fig.suptitle(\u001b[33mf\u001b[39m\u001b[33m\"\u001b[39m\u001b[33mReconstruction at Epoch \u001b[39m\u001b[38;5;132;01m{\u001b[39;00mepoch\u001b[38;5;132;01m}\u001b[39;00m\u001b[33m\"\u001b[39m, fontsize=\u001b[32m20\u001b[39m)\n",
      "\u001b[36mFile \u001b[39m\u001b[32mc:\\Users\\Hyperbook\\Desktop\\STUDIA\\SEM III\\PZ#2\\model\\model.py:188\u001b[39m, in \u001b[36mLofiModel.reconstruct\u001b[39m\u001b[34m(self, input_pianoroll, output_path)\u001b[39m\n\u001b[32m    186\u001b[39m \u001b[38;5;28mself\u001b[39m.eval()\n\u001b[32m    187\u001b[39m \u001b[38;5;28;01mwith\u001b[39;00m torch.no_grad():\n\u001b[32m--> \u001b[39m\u001b[32m188\u001b[39m     input_batch = \u001b[43minput_pianoroll\u001b[49m\u001b[43m.\u001b[49m\u001b[43munsqueeze\u001b[49m(\u001b[32m0\u001b[39m).to(device)\n\u001b[32m    189\u001b[39m     recon_logits, _, _ = \u001b[38;5;28mself\u001b[39m(input_batch)\n\u001b[32m    190\u001b[39m     reconstructed_pianoroll = torch.argmax(recon_logits, dim=-\u001b[32m1\u001b[39m).squeeze(\u001b[32m0\u001b[39m)\n",
      "\u001b[31mAttributeError\u001b[39m: 'tuple' object has no attribute 'unsqueeze'"
     ]
    }
   ],
   "source": [
    "from matplotlib import pyplot as plt\n",
    "\n",
    "for epoch in [200, 230, 270, 300, 320]:\n",
    "    print(f\"Epoch {epoch}\")\n",
    "    model = LofiModel()\n",
    "    model.load_weights(rf\"C:\\Users\\Hyperbook\\Desktop\\STUDIA\\SEM III\\PZ#2\\model\\checkpoints\\Modele LOFI\\lofi_model_epoch_{epoch}.pth\")\n",
    "    original_sequence_tensor= dataset[epoch]\n",
    "    # print(f\"Processing file: {file_name}\")\n",
    "    reconstructions = model.reconstruct(original_sequence_tensor, output_path=f\"reconstructed/lofi_model/reconstructed_new_{epoch}.mid\")\n",
    "\n",
    "    fig, axes = plt.subplots(2, 1, figsize=(16, 12))\n",
    "    fig.suptitle(f\"Reconstruction at Epoch {epoch}\", fontsize=20)\n",
    "    \n",
    "    MidiDataset.visualize(original_sequence_tensor, title=\"Original\", ax=axes[0], show_plot=False)\n",
    "    MidiDataset.visualize(reconstructions, title=\"Reconstructed\", ax=axes[1], show_plot=False)\n",
    "    \n",
    "    plt.tight_layout(rect=[0, 0.03, 1, 0.95])\n",
    "\n",
    "    display(fig)\n",
    "    plt.close(fig)\n",
    "    \n",
    "    print(60*\"__\"+\"\\n\")\n",
    "    print()"
   ]
  }
 ],
 "metadata": {
  "kernelspec": {
   "display_name": "venv",
   "language": "python",
   "name": "python3"
  },
  "language_info": {
   "codemirror_mode": {
    "name": "ipython",
    "version": 3
   },
   "file_extension": ".py",
   "mimetype": "text/x-python",
   "name": "python",
   "nbconvert_exporter": "python",
   "pygments_lexer": "ipython3",
   "version": "3.13.3"
  }
 },
 "nbformat": 4,
 "nbformat_minor": 5
}
