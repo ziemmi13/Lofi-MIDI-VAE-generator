{
 "cells": [
  {
   "cell_type": "code",
   "execution_count": null,
   "id": "7a329471",
   "metadata": {},
   "outputs": [
    {
     "name": "stdout",
     "output_type": "stream",
     "text": [
      "2.7.1+cu118\n",
      "11.8\n"
     ]
    }
   ],
   "source": [
    "# Magiczne komendy do automatycznego przeładowywania modułów po zmianach w plikach .py\n",
    "%load_ext autoreload\n",
    "%autoreload 2\n",
    "\n",
    "import torch\n",
    "import os\n",
    "\n",
    "# Import naszych własnych modułów\n",
    "from config import config\n",
    "from dataset import MidiDataset\n",
    "from model import LofiModel\n",
    "from train import train\n",
    "from utils import *\n",
    "print(torch.__version__)\n",
    "print(torch.version.cuda)"
   ]
  },
  {
   "cell_type": "markdown",
   "id": "1bc35866",
   "metadata": {},
   "source": [
    "# Config"
   ]
  },
  {
   "cell_type": "code",
   "execution_count": null,
   "id": "f1d17b4d",
   "metadata": {},
   "outputs": [
    {
     "name": "stdout",
     "output_type": "stream",
     "text": [
      "--- Data Configuration ---\n",
      "midi_dir: dataset/maestro-v3.0.0\n",
      "num_bars: 4\n",
      "steps_per_bar: 32\n",
      "\n",
      "--- Model Configuration ---\n",
      "conductor_hidden_size: 512\n",
      "decoder_hidden_size: 512\n",
      "embedding_dim: 128\n",
      "encoder_hidden_size: 512\n",
      "input_dim: 128\n",
      "latent_dim: 256\n",
      "num_bars: 4\n",
      "num_layers: 2\n",
      "steps_per_bar: 32\n",
      "\n",
      "--- Training Configuration ---\n",
      "batch_size: 64\n",
      "beta_anneal_steps: 20000\n",
      "beta_end: 0.2\n",
      "beta_start: 0.0\n",
      "checkpoint_dir: checkpoints/\n",
      "checkpoint_interval: 5\n",
      "device: cuda\n",
      "learning_rate: 0.001\n",
      "log_dir: runs/\n",
      "log_interval: 100\n",
      "num_epochs: 100\n",
      "num_workers: 4\n"
     ]
    }
   ],
   "source": []
  },
  {
   "cell_type": "code",
   "execution_count": null,
   "id": "529bb6e7",
   "metadata": {},
   "outputs": [
    {
     "name": "stdout",
     "output_type": "stream",
     "text": [
      "\n",
      "--- Training Configuration ---\n",
      "batch_size: 64\n",
      "beta_anneal_steps: 20000\n",
      "beta_end: 0.2\n",
      "beta_start: 0.0\n",
      "checkpoint_dir: checkpoints/\n",
      "checkpoint_interval: 5\n",
      "device: cuda\n",
      "learning_rate: 0.001\n",
      "log_dir: runs/\n",
      "log_interval: 100\n",
      "num_epochs: 100\n",
      "num_workers: 4\n"
     ]
    }
   ],
   "source": []
  },
  {
   "cell_type": "code",
   "execution_count": 5,
   "id": "9cae3b83",
   "metadata": {},
   "outputs": [
    {
     "name": "stdout",
     "output_type": "stream",
     "text": [
      "Using device: cuda\n",
      "Loading dataset...\n",
      "Dataset contains 499 MIDI samples.\n",
      "Succesfully processed 499 MIDI samples.\n",
      "Dataset split into: Train=424, Validation=75\n",
      "\n",
      "Initializing model...\n"
     ]
    },
    {
     "ename": "KeyError",
     "evalue": "'input_dim'",
     "output_type": "error",
     "traceback": [
      "\u001b[31m---------------------------------------------------------------------------\u001b[39m",
      "\u001b[31mKeyError\u001b[39m                                  Traceback (most recent call last)",
      "\u001b[36mCell\u001b[39m\u001b[36m \u001b[39m\u001b[32mIn[5]\u001b[39m\u001b[32m, line 1\u001b[39m\n\u001b[32m----> \u001b[39m\u001b[32m1\u001b[39m \u001b[43mtrain\u001b[49m\u001b[43m(\u001b[49m\u001b[43m)\u001b[49m\n",
      "\u001b[36mFile \u001b[39m\u001b[32mc:\\Users\\Hyperbook\\Desktop\\STUDIA\\SEM III\\PZ#2\\model\\train.py:36\u001b[39m, in \u001b[36mtrain\u001b[39m\u001b[34m()\u001b[39m\n\u001b[32m     34\u001b[39m \u001b[38;5;28mprint\u001b[39m(\u001b[33m\"\u001b[39m\u001b[33mInitializing model...\u001b[39m\u001b[33m\"\u001b[39m)\n\u001b[32m     35\u001b[39m model_params = {key: val \u001b[38;5;28;01mfor\u001b[39;00m key, val \u001b[38;5;129;01min\u001b[39;00m \u001b[38;5;28mvars\u001b[39m(config.model).items() \u001b[38;5;28;01mif\u001b[39;00m \u001b[38;5;129;01mnot\u001b[39;00m key.startswith(\u001b[33m'\u001b[39m\u001b[33m__\u001b[39m\u001b[33m'\u001b[39m)}\n\u001b[32m---> \u001b[39m\u001b[32m36\u001b[39m model = \u001b[43mLofiModel\u001b[49m\u001b[43m(\u001b[49m\u001b[43mmodel_params\u001b[49m\u001b[43m)\u001b[49m.to(config.train.device)\n\u001b[32m     37\u001b[39m optimizer = optim.Adam(model.parameters(), lr=config.train.learning_rate)\n\u001b[32m     39\u001b[39m \u001b[38;5;28mprint\u001b[39m(model)\n",
      "\u001b[36mFile \u001b[39m\u001b[32mc:\\Users\\Hyperbook\\Desktop\\STUDIA\\SEM III\\PZ#2\\model\\model.py:120\u001b[39m, in \u001b[36mLofiModel.__init__\u001b[39m\u001b[34m(self, config)\u001b[39m\n\u001b[32m    116\u001b[39m \u001b[38;5;28;01mdef\u001b[39;00m\u001b[38;5;250m \u001b[39m\u001b[34m__init__\u001b[39m(\u001b[38;5;28mself\u001b[39m, config: \u001b[38;5;28mdict\u001b[39m):\n\u001b[32m    117\u001b[39m     \u001b[38;5;28msuper\u001b[39m().\u001b[34m__init__\u001b[39m()\n\u001b[32m    119\u001b[39m     \u001b[38;5;28mself\u001b[39m.encoder = Encoder(\n\u001b[32m--> \u001b[39m\u001b[32m120\u001b[39m         input_dim=\u001b[43mconfig\u001b[49m\u001b[43m[\u001b[49m\u001b[33;43m'\u001b[39;49m\u001b[33;43minput_dim\u001b[39;49m\u001b[33;43m'\u001b[39;49m\u001b[43m]\u001b[49m,\n\u001b[32m    121\u001b[39m         embedding_dim=config[\u001b[33m'\u001b[39m\u001b[33membedding_dim\u001b[39m\u001b[33m'\u001b[39m],\n\u001b[32m    122\u001b[39m         hidden_size=config[\u001b[33m'\u001b[39m\u001b[33mencoder_hidden_size\u001b[39m\u001b[33m'\u001b[39m],\n\u001b[32m    123\u001b[39m         latent_dim=config[\u001b[33m'\u001b[39m\u001b[33mlatent_dim\u001b[39m\u001b[33m'\u001b[39m],\n\u001b[32m    124\u001b[39m         num_layers=config[\u001b[33m'\u001b[39m\u001b[33mnum_layers\u001b[39m\u001b[33m'\u001b[39m]\n\u001b[32m    125\u001b[39m     )\n\u001b[32m    127\u001b[39m     \u001b[38;5;28mself\u001b[39m.decoder = HierarchicalDecoder(\n\u001b[32m    128\u001b[39m         latent_dim=config[\u001b[33m'\u001b[39m\u001b[33mlatent_dim\u001b[39m\u001b[33m'\u001b[39m],\n\u001b[32m    129\u001b[39m         conductor_hidden_size=config[\u001b[33m'\u001b[39m\u001b[33mconductor_hidden_size\u001b[39m\u001b[33m'\u001b[39m],\n\u001b[32m   (...)\u001b[39m\u001b[32m    133\u001b[39m         num_layers=config[\u001b[33m'\u001b[39m\u001b[33mnum_layers\u001b[39m\u001b[33m'\u001b[39m]\n\u001b[32m    134\u001b[39m     )\n",
      "\u001b[31mKeyError\u001b[39m: 'input_dim'"
     ]
    }
   ],
   "source": [
    "train()"
   ]
  }
 ],
 "metadata": {
  "kernelspec": {
   "display_name": "venv",
   "language": "python",
   "name": "python3"
  },
  "language_info": {
   "codemirror_mode": {
    "name": "ipython",
    "version": 3
   },
   "file_extension": ".py",
   "mimetype": "text/x-python",
   "name": "python",
   "nbconvert_exporter": "python",
   "pygments_lexer": "ipython3",
   "version": "3.13.3"
  }
 },
 "nbformat": 4,
 "nbformat_minor": 5
}
